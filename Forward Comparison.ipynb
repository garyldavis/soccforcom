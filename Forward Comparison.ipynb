{
 "cells": [
  {
   "cell_type": "code",
   "execution_count": 1,
   "id": "38c048c1",
   "metadata": {},
   "outputs": [],
   "source": [
    "import pandas as pd\n",
    "from scipy import stats\n",
    "import random\n",
    "from itertools import accumulate"
   ]
  },
  {
   "cell_type": "code",
   "execution_count": 2,
   "id": "0a93237c",
   "metadata": {},
   "outputs": [],
   "source": [
    "# Load the CSV data into a DataFrame\n",
    "df = pd.read_csv(\"FBref5.csv\")"
   ]
  },
  {
   "cell_type": "code",
   "execution_count": 3,
   "id": "894204c8",
   "metadata": {},
   "outputs": [
    {
     "name": "stdout",
     "output_type": "stream",
     "text": [
      "Enter the minimum number of minutes a player must of played: 1350\n"
     ]
    }
   ],
   "source": [
    "# use input to get the minimum minutes\n",
    "mins = float(input(\"Enter the minimum number of minutes a player must of played: \"))"
   ]
  },
  {
   "cell_type": "code",
   "execution_count": 4,
   "id": "e6d46ddb",
   "metadata": {},
   "outputs": [],
   "source": [
    "df = df[(df[\"Min_x\"] >= mins) & (df[\"Pos\"].isin(['FW']))]"
   ]
  },
  {
   "cell_type": "code",
   "execution_count": 5,
   "id": "ef27a0cb",
   "metadata": {},
   "outputs": [
    {
     "name": "stdout",
     "output_type": "stream",
     "text": [
      "Enter the player's name: Ollie Watkins\n",
      "Enter the player's squad: Aston Villa\n"
     ]
    }
   ],
   "source": [
    "# Manually input the player name and squad\n",
    "player_name = input(\"Enter the player's name: \")\n",
    "player_squad = input(\"Enter the player's squad: \")"
   ]
  },
  {
   "cell_type": "code",
   "execution_count": 6,
   "id": "a8474739",
   "metadata": {},
   "outputs": [],
   "source": [
    "# Filter the DataFrame based on the selected player's name and squad\n",
    "filtered_df = df[(df['Player_x'] == player_name) & (df['Squad'] == player_squad)]"
   ]
  },
  {
   "cell_type": "code",
   "execution_count": 7,
   "id": "0949c2cb",
   "metadata": {},
   "outputs": [],
   "source": [
    "# Select the relevant columns for comparison\n",
    "columns_to_compare = ['GSh', 'Gls_2', 'SoTper', 'SoT90', 'Ast_2', 'KP', 'GCA90', 'Sh_2', 'Att 3rd_1',\n",
    "                      'Rec', 'Cmpper_2', 'Dis']"
   ]
  },
  {
   "cell_type": "code",
   "execution_count": 8,
   "id": "bbb10e22",
   "metadata": {},
   "outputs": [],
   "source": [
    "# Calculate the z-score for the columns\n",
    "z_score = stats.zscore(df[columns_to_compare])"
   ]
  },
  {
   "cell_type": "code",
   "execution_count": 9,
   "id": "61c5a5cf",
   "metadata": {},
   "outputs": [],
   "source": [
    "# Apply the function to the DataFrame\n",
    "df[columns_to_compare] = z_score"
   ]
  },
  {
   "cell_type": "code",
   "execution_count": 10,
   "id": "1940f677",
   "metadata": {},
   "outputs": [
    {
     "name": "stdout",
     "output_type": "stream",
     "text": [
      "           GSh     Gls_2    SoTper     SoT90     Ast_2        KP     GCA90  \\\n",
      "13   -0.097934 -0.348993  0.833126  0.459023 -0.250787  0.370197  0.014534   \n",
      "20   -0.452004 -0.838626 -0.999751 -0.987905 -0.044601 -0.189911 -0.255110   \n",
      "94    0.433170 -0.006251 -1.094965 -0.737475 -0.766252 -0.493268  0.553822   \n",
      "130   1.495379 -0.642773  2.130421 -0.793126 -0.869345  0.515440  0.499893   \n",
      "132  -0.452004 -0.740699  0.130920 -0.848778  0.470865 -0.507579 -0.632611   \n",
      "...        ...       ...       ...       ...       ...       ...       ...   \n",
      "3388  1.495379 -0.055214  1.035456 -0.403569  0.264679 -0.922103 -0.147252   \n",
      "3417  0.433170 -0.397957  0.345152 -0.653999  0.470865 -0.086165 -0.039395   \n",
      "3434 -1.514213 -1.328259 -2.225636 -1.293986 -0.147694 -0.167673  0.445964   \n",
      "3458 -0.629039 -1.034479 -0.975947 -1.182684 -0.250787 -1.281948 -1.333685   \n",
      "3473 -1.337178 -1.622038 -0.821224 -1.822671 -0.766252  0.418691 -1.279756   \n",
      "\n",
      "          Sh_2  Att 3rd_1       Rec  Cmpper_2       Dis  \n",
      "13    1.479118  -0.204622 -0.315018 -0.166866 -0.467125  \n",
      "20   -1.029255  -0.994549 -0.352957 -0.490765 -0.482963  \n",
      "94    0.437736   1.106746  0.650128  1.685839 -0.946475  \n",
      "130   0.205871   0.051687  1.663631  1.012128 -0.355534  \n",
      "132   1.494698   0.087914  0.211742 -0.192778  0.708667  \n",
      "...        ...        ...       ...       ...       ...  \n",
      "3388 -1.029255   0.695325 -1.078729  0.688229 -0.234093  \n",
      "3417 -0.369585   0.165308  1.086285  1.543323 -0.719308  \n",
      "3434  0.281572   0.153824  0.450283 -0.322337  2.478041  \n",
      "3458 -1.029255  -1.191712 -1.429911 -1.099696 -2.105465  \n",
      "3473 -1.029255  -1.163880  1.007963 -2.861709 -0.989885  \n",
      "\n",
      "[141 rows x 12 columns]\n"
     ]
    }
   ],
   "source": [
    "# Print the z-scored data\n",
    "print(df[columns_to_compare])"
   ]
  },
  {
   "cell_type": "code",
   "execution_count": 11,
   "id": "0d2ed3a9",
   "metadata": {},
   "outputs": [],
   "source": [
    "# Find the minimum and maximum values for the columns\n",
    "min_value = df[columns_to_compare].min().min() \n",
    "max_value = df[columns_to_compare].max().max()"
   ]
  },
  {
   "cell_type": "code",
   "execution_count": 12,
   "id": "de7246a8",
   "metadata": {},
   "outputs": [],
   "source": [
    "# Define a function to scale the data\n",
    "def scale_data(x):\n",
    "   return (x - min_value) / (max_value - min_value) * 100"
   ]
  },
  {
   "cell_type": "code",
   "execution_count": 13,
   "id": "870748f6",
   "metadata": {},
   "outputs": [],
   "source": [
    "# Apply the function to the DataFrame\n",
    "df[columns_to_compare] = df[columns_to_compare].apply(scale_data)"
   ]
  },
  {
   "cell_type": "code",
   "execution_count": 14,
   "id": "cea4b532",
   "metadata": {},
   "outputs": [
    {
     "name": "stdout",
     "output_type": "stream",
     "text": [
      "            GSh      Gls_2     SoTper      SoT90      Ast_2         KP  \\\n",
      "13    40.192224  36.541192  53.732171  48.291774  37.969363  47.000025   \n",
      "20    35.043161  29.420705  27.077546  27.249810  40.967828  38.854654   \n",
      "94    47.915817  41.525532  25.692890  30.891688  30.473201  34.443079   \n",
      "130   63.363003  32.268900  72.598107  30.082382  28.973969  49.112231   \n",
      "132   35.043161  30.844802  43.520334  29.273076  48.463990  34.234958   \n",
      "...         ...        ...        ...        ...        ...        ...   \n",
      "3388  63.363003  40.813484  56.674565  35.747526  45.465525  28.206737   \n",
      "3417  47.915817  35.829143  46.635810  32.105648  48.463990  40.363380   \n",
      "3434  19.595975  22.300218   9.250101  22.798625  39.468596  39.178052   \n",
      "3458  32.468630  26.572510  27.423709  24.417238  37.969363  22.973689   \n",
      "3473  22.170506  18.027926  29.673775  15.110215  30.473201  47.705252   \n",
      "\n",
      "          GCA90       Sh_2  Att 3rd_1        Rec   Cmpper_2        Dis  \n",
      "13    41.827793  63.126526  38.640716  37.035281  39.189787  34.823255  \n",
      "20    37.906496  26.648479  27.153194  36.483547  34.479476  34.592938  \n",
      "94    49.670387  47.982211  57.711302  51.070921  66.132765  27.852304  \n",
      "130   48.886128  44.610314  42.368092  65.809807  56.335319  36.446080  \n",
      "132   32.416680  63.353098  42.894922  44.695685  38.812962  51.922234  \n",
      "...         ...        ...        ...        ...        ...        ...  \n",
      "3388  39.475015  26.648479  51.728204  25.929000  51.625008  38.212131  \n",
      "3417  41.043533  36.241732  44.020423  57.413739  64.060229  31.155891  \n",
      "3434  48.101868  45.711201  43.853413  48.164674  36.928838  77.653374  \n",
      "3458  22.221307  26.648479  24.285954  20.821933  25.624091  10.997692  \n",
      "3473  23.005566  26.648479  24.690693  56.274752   0.000000  27.221020  \n",
      "\n",
      "[141 rows x 12 columns]\n"
     ]
    }
   ],
   "source": [
    "# Print the scaled z-scores\n",
    "print(df[columns_to_compare])"
   ]
  },
  {
   "cell_type": "code",
   "execution_count": 15,
   "id": "6868a67e",
   "metadata": {},
   "outputs": [],
   "source": [
    "# Set the columns and scaling factors\n",
    "columns = ['GSh', 'Gls_2', 'SoTper', 'SoT90', 'Ast_2', 'KP', 'GCA90', 'Sh_2', 'Att 3rd_1', 'Rec', 'Cmpper_2', 'Dis']\n",
    "percentages = [0.1471, 0.1378, 0.1321, 0.1176, 0.0992, 0.0826, 0.0658, 0.0635, 0.0547, 0.04770, 0.0318, 0.0222]"
   ]
  },
  {
   "cell_type": "code",
   "execution_count": 16,
   "id": "eca1b5c7",
   "metadata": {},
   "outputs": [],
   "source": [
    "# Define a function to scale the values\n",
    "def scale_values(x, percentage):\n",
    "   return x * percentage"
   ]
  },
  {
   "cell_type": "code",
   "execution_count": 17,
   "id": "2e7ab4e3",
   "metadata": {},
   "outputs": [],
   "source": [
    "# Apply the function to the DataFrame\n",
    "for column, percentage in zip(columns, percentages):\n",
    "    df[column] = df[column].apply(scale_values, args=(percentage,)) "
   ]
  },
  {
   "cell_type": "code",
   "execution_count": 18,
   "id": "38a6ee19",
   "metadata": {},
   "outputs": [],
   "source": [
    "# Add the columns and create a new column with the total\n",
    "df = df.assign(Rank=df[columns_to_compare].sum(axis=1))"
   ]
  },
  {
   "cell_type": "code",
   "execution_count": 19,
   "id": "d5bdb557",
   "metadata": {},
   "outputs": [],
   "source": [
    "# Sort the DataFrame by the column in descending order\n",
    "df = df.sort_values('Rank', ascending=False)"
   ]
  },
  {
   "cell_type": "code",
   "execution_count": 20,
   "id": "8b391b89",
   "metadata": {},
   "outputs": [],
   "source": [
    "# Add a new column for the rank and assign values\n",
    "df['Rank'] = df['Rank'].rank(method='dense', ascending=False)"
   ]
  },
  {
   "cell_type": "code",
   "execution_count": 21,
   "id": "323b58d4",
   "metadata": {},
   "outputs": [],
   "source": [
    "column = 'Rank'"
   ]
  },
  {
   "cell_type": "code",
   "execution_count": 22,
   "id": "d1262e16",
   "metadata": {},
   "outputs": [
    {
     "data": {
      "text/html": [
       "<div>\n",
       "<style scoped>\n",
       "    .dataframe tbody tr th:only-of-type {\n",
       "        vertical-align: middle;\n",
       "    }\n",
       "\n",
       "    .dataframe tbody tr th {\n",
       "        vertical-align: top;\n",
       "    }\n",
       "\n",
       "    .dataframe thead th {\n",
       "        text-align: right;\n",
       "    }\n",
       "</style>\n",
       "<table border=\"1\" class=\"dataframe\">\n",
       "  <thead>\n",
       "    <tr style=\"text-align: right;\">\n",
       "      <th></th>\n",
       "      <th>Rk</th>\n",
       "      <th>Player_x</th>\n",
       "      <th>Nation</th>\n",
       "      <th>Pos</th>\n",
       "      <th>Squad</th>\n",
       "      <th>Comp</th>\n",
       "      <th>Age</th>\n",
       "      <th>Born</th>\n",
       "      <th>MP_x</th>\n",
       "      <th>Min_x</th>\n",
       "      <th>...</th>\n",
       "      <th>TotDist_y</th>\n",
       "      <th>PrgDist_y</th>\n",
       "      <th>PrgC_y</th>\n",
       "      <th>third_y</th>\n",
       "      <th>CPA</th>\n",
       "      <th>Mis</th>\n",
       "      <th>Dis</th>\n",
       "      <th>Rec</th>\n",
       "      <th>PrgR_y</th>\n",
       "      <th>Rank</th>\n",
       "    </tr>\n",
       "  </thead>\n",
       "  <tbody>\n",
       "    <tr>\n",
       "      <th>2079</th>\n",
       "      <td>2102</td>\n",
       "      <td>Kylian Mbappe</td>\n",
       "      <td>France</td>\n",
       "      <td>FW</td>\n",
       "      <td>Paris S-G</td>\n",
       "      <td>Ligue 1</td>\n",
       "      <td>24-170</td>\n",
       "      <td>1998</td>\n",
       "      <td>34</td>\n",
       "      <td>2818</td>\n",
       "      <td>...</td>\n",
       "      <td>313.418530</td>\n",
       "      <td>150.958466</td>\n",
       "      <td>5.271565</td>\n",
       "      <td>4.025559</td>\n",
       "      <td>2.747604</td>\n",
       "      <td>2.012780</td>\n",
       "      <td>0.811713</td>\n",
       "      <td>3.891651</td>\n",
       "      <td>14.952077</td>\n",
       "      <td>1.0</td>\n",
       "    </tr>\n",
       "    <tr>\n",
       "      <th>1529</th>\n",
       "      <td>1548</td>\n",
       "      <td>Nicolas Jackson</td>\n",
       "      <td>Senegal</td>\n",
       "      <td>FW</td>\n",
       "      <td>Villarreal</td>\n",
       "      <td>La Liga</td>\n",
       "      <td>21-353</td>\n",
       "      <td>2001</td>\n",
       "      <td>26</td>\n",
       "      <td>1598</td>\n",
       "      <td>...</td>\n",
       "      <td>140.505618</td>\n",
       "      <td>69.157303</td>\n",
       "      <td>2.752809</td>\n",
       "      <td>1.460674</td>\n",
       "      <td>1.067416</td>\n",
       "      <td>3.089888</td>\n",
       "      <td>1.307812</td>\n",
       "      <td>1.386263</td>\n",
       "      <td>6.573034</td>\n",
       "      <td>2.0</td>\n",
       "    </tr>\n",
       "    <tr>\n",
       "      <th>332</th>\n",
       "      <td>339</td>\n",
       "      <td>Wissam Ben Yedder</td>\n",
       "      <td>France</td>\n",
       "      <td>FW</td>\n",
       "      <td>Monaco</td>\n",
       "      <td>Ligue 1</td>\n",
       "      <td>32-300</td>\n",
       "      <td>1990</td>\n",
       "      <td>32</td>\n",
       "      <td>2114</td>\n",
       "      <td>...</td>\n",
       "      <td>138.340426</td>\n",
       "      <td>55.489362</td>\n",
       "      <td>2.042553</td>\n",
       "      <td>1.361702</td>\n",
       "      <td>1.106383</td>\n",
       "      <td>1.489362</td>\n",
       "      <td>0.823309</td>\n",
       "      <td>1.760903</td>\n",
       "      <td>8.425532</td>\n",
       "      <td>3.0</td>\n",
       "    </tr>\n",
       "    <tr>\n",
       "      <th>1372</th>\n",
       "      <td>1389</td>\n",
       "      <td>Erling Haaland</td>\n",
       "      <td>Norway</td>\n",
       "      <td>FW</td>\n",
       "      <td>Manchester City</td>\n",
       "      <td>Premier League</td>\n",
       "      <td>22-322</td>\n",
       "      <td>2000</td>\n",
       "      <td>35</td>\n",
       "      <td>2769</td>\n",
       "      <td>...</td>\n",
       "      <td>65.584416</td>\n",
       "      <td>24.707792</td>\n",
       "      <td>1.136364</td>\n",
       "      <td>0.324675</td>\n",
       "      <td>0.811688</td>\n",
       "      <td>1.655844</td>\n",
       "      <td>0.520946</td>\n",
       "      <td>1.197901</td>\n",
       "      <td>4.902597</td>\n",
       "      <td>4.0</td>\n",
       "    </tr>\n",
       "    <tr>\n",
       "      <th>1750</th>\n",
       "      <td>1771</td>\n",
       "      <td>Khvicha Kvaratskhelia</td>\n",
       "      <td>Georgia</td>\n",
       "      <td>FW</td>\n",
       "      <td>Napoli</td>\n",
       "      <td>Serie A</td>\n",
       "      <td>22-116</td>\n",
       "      <td>2001</td>\n",
       "      <td>34</td>\n",
       "      <td>2519</td>\n",
       "      <td>...</td>\n",
       "      <td>247.678571</td>\n",
       "      <td>132.107143</td>\n",
       "      <td>4.964286</td>\n",
       "      <td>2.214286</td>\n",
       "      <td>3.000000</td>\n",
       "      <td>2.250000</td>\n",
       "      <td>1.029297</td>\n",
       "      <td>3.315644</td>\n",
       "      <td>10.392857</td>\n",
       "      <td>5.0</td>\n",
       "    </tr>\n",
       "  </tbody>\n",
       "</table>\n",
       "<p>5 rows × 156 columns</p>\n",
       "</div>"
      ],
      "text/plain": [
       "        Rk               Player_x   Nation Pos            Squad  \\\n",
       "2079  2102          Kylian Mbappe   France  FW        Paris S-G   \n",
       "1529  1548        Nicolas Jackson  Senegal  FW       Villarreal   \n",
       "332    339      Wissam Ben Yedder   France  FW           Monaco   \n",
       "1372  1389         Erling Haaland   Norway  FW  Manchester City   \n",
       "1750  1771  Khvicha Kvaratskhelia  Georgia  FW           Napoli   \n",
       "\n",
       "                Comp     Age  Born  MP_x  Min_x  ...   TotDist_y   PrgDist_y  \\\n",
       "2079         Ligue 1  24-170  1998    34   2818  ...  313.418530  150.958466   \n",
       "1529         La Liga  21-353  2001    26   1598  ...  140.505618   69.157303   \n",
       "332          Ligue 1  32-300  1990    32   2114  ...  138.340426   55.489362   \n",
       "1372  Premier League  22-322  2000    35   2769  ...   65.584416   24.707792   \n",
       "1750         Serie A  22-116  2001    34   2519  ...  247.678571  132.107143   \n",
       "\n",
       "        PrgC_y   third_y       CPA       Mis       Dis       Rec     PrgR_y  \\\n",
       "2079  5.271565  4.025559  2.747604  2.012780  0.811713  3.891651  14.952077   \n",
       "1529  2.752809  1.460674  1.067416  3.089888  1.307812  1.386263   6.573034   \n",
       "332   2.042553  1.361702  1.106383  1.489362  0.823309  1.760903   8.425532   \n",
       "1372  1.136364  0.324675  0.811688  1.655844  0.520946  1.197901   4.902597   \n",
       "1750  4.964286  2.214286  3.000000  2.250000  1.029297  3.315644  10.392857   \n",
       "\n",
       "      Rank  \n",
       "2079   1.0  \n",
       "1529   2.0  \n",
       "332    3.0  \n",
       "1372   4.0  \n",
       "1750   5.0  \n",
       "\n",
       "[5 rows x 156 columns]"
      ]
     },
     "execution_count": 22,
     "metadata": {},
     "output_type": "execute_result"
    }
   ],
   "source": [
    "df.head()"
   ]
  },
  {
   "cell_type": "code",
   "execution_count": 23,
   "id": "b1e25c35",
   "metadata": {},
   "outputs": [],
   "source": [
    "# Reset the index of the position_df DataFrame\n",
    "df = df.reset_index(drop=True)"
   ]
  },
  {
   "cell_type": "code",
   "execution_count": 24,
   "id": "03146e8f",
   "metadata": {},
   "outputs": [],
   "source": [
    "# Add a new column for the rank and assign values\n",
    "df['Rank'] = df.index + 1"
   ]
  },
  {
   "cell_type": "code",
   "execution_count": 25,
   "id": "afe17962",
   "metadata": {},
   "outputs": [],
   "source": [
    "# Filter the DataFrame for the selected player\n",
    "selected_player_df = df[df['Player_x'] == player_name]"
   ]
  },
  {
   "cell_type": "code",
   "execution_count": 26,
   "id": "7c9c146e",
   "metadata": {},
   "outputs": [],
   "source": [
    "# Calculate the average of the selected player's values across rows\n",
    "selected_player_avg = selected_player_df[columns_to_compare].mean()"
   ]
  },
  {
   "cell_type": "code",
   "execution_count": 27,
   "id": "fca0ae14",
   "metadata": {},
   "outputs": [],
   "source": [
    "# Get the rank of the selected player\n",
    "player_rank = selected_player_df['Rank'].values[0]"
   ]
  },
  {
   "cell_type": "code",
   "execution_count": 28,
   "id": "2b01a156",
   "metadata": {},
   "outputs": [],
   "source": [
    "# Filter the DataFrame for players above and below the selected player\n",
    "above_players = df[df['Rank'] < player_rank].tail(15).copy()\n",
    "below_players = df[df['Rank'] > player_rank].head(5).copy()\n",
    "selected_player_df = df[df['Player_x'] == player_name].copy()"
   ]
  },
  {
   "cell_type": "code",
   "execution_count": 29,
   "id": "597d54ac",
   "metadata": {},
   "outputs": [],
   "source": [
    "# Convert above_players and below_players to DataFrames\n",
    "above_players = pd.DataFrame(above_players, columns=df.columns)\n",
    "below_players = pd.DataFrame(below_players, columns=df.columns)"
   ]
  },
  {
   "cell_type": "code",
   "execution_count": 30,
   "id": "1f1e7ff9",
   "metadata": {},
   "outputs": [
    {
     "name": "stdout",
     "output_type": "stream",
     "text": [
      "Players above:\n",
      "               Player_x  Rank\n",
      "18        Mohamed Salah    19\n",
      "19        Karim Benzema    20\n",
      "20    Randal Kolo Muani    21\n",
      "21          Lois Openda    22\n",
      "22          Bukayo Saka    23\n",
      "23          Terem Moffi    24\n",
      "24           Martinelli    25\n",
      "25        Gabriel Jesus    26\n",
      "26        Marcus Thuram    27\n",
      "27       Jonathan David    28\n",
      "28        Romelu Lukaku    29\n",
      "29             Raphinha    30\n",
      "30  Michael Gregoritsch    31\n",
      "31      Marcus Rashford    32\n",
      "32     Domenico Berardi    33\n"
     ]
    }
   ],
   "source": [
    "# Display the players above the selected player\n",
    "print(\"Players above:\")\n",
    "print(above_players[['Player_x', 'Rank']])"
   ]
  },
  {
   "cell_type": "code",
   "execution_count": 31,
   "id": "fb581f6f",
   "metadata": {},
   "outputs": [
    {
     "name": "stdout",
     "output_type": "stream",
     "text": [
      "\n",
      "Ollie Watkins is ranked #34 in the database.\n"
     ]
    }
   ],
   "source": [
    "# Display the selected player\n",
    "print(f\"\\n{player_name} is ranked #{int(player_rank)} in the database.\")"
   ]
  },
  {
   "cell_type": "code",
   "execution_count": 32,
   "id": "ed98d706",
   "metadata": {},
   "outputs": [
    {
     "name": "stdout",
     "output_type": "stream",
     "text": [
      "\n",
      "Players below:\n",
      "            Player_x  Rank\n",
      "34   Felipe Anderson    35\n",
      "35     Taiwo Awoniyi    36\n",
      "36     Alvaro Morata    37\n",
      "37    Alexander Isak    38\n",
      "38  Marko Arnautovic    39\n"
     ]
    }
   ],
   "source": [
    "# Display the players below the selected player\n",
    "print(\"\\nPlayers below:\")\n",
    "print(below_players[['Player_x', 'Rank']])"
   ]
  },
  {
   "cell_type": "code",
   "execution_count": 33,
   "id": "6cbc5d62",
   "metadata": {},
   "outputs": [
    {
     "name": "stdout",
     "output_type": "stream",
     "text": [
      "Top 10 Ranked Players:\n",
      "                Player_x  Rank\n",
      "0          Kylian Mbappe     1\n",
      "1        Nicolas Jackson     2\n",
      "2      Wissam Ben Yedder     3\n",
      "3         Erling Haaland     4\n",
      "4  Khvicha Kvaratskhelia     5\n",
      "5             Phil Foden     6\n",
      "6              Elye Wahi     7\n",
      "7     Robert Lewandowski     8\n",
      "8          Donyell Malen     9\n",
      "9           Breel Embolo    10\n"
     ]
    }
   ],
   "source": [
    "# Filter the DataFrame for the top 10 ranked players\n",
    "top_10_players = df.head(10).copy()\n",
    "\n",
    "# Display the top 10 ranked players\n",
    "print(\"Top 10 Ranked Players:\")\n",
    "print(top_10_players[['Player_x', 'Rank']])"
   ]
  },
  {
   "cell_type": "code",
   "execution_count": null,
   "id": "50ff3460",
   "metadata": {},
   "outputs": [],
   "source": []
  }
 ],
 "metadata": {
  "kernelspec": {
   "display_name": "Python 3 (ipykernel)",
   "language": "python",
   "name": "python3"
  },
  "language_info": {
   "codemirror_mode": {
    "name": "ipython",
    "version": 3
   },
   "file_extension": ".py",
   "mimetype": "text/x-python",
   "name": "python",
   "nbconvert_exporter": "python",
   "pygments_lexer": "ipython3",
   "version": "3.9.13"
  }
 },
 "nbformat": 4,
 "nbformat_minor": 5
}
